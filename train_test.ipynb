{
  "nbformat": 4,
  "nbformat_minor": 0,
  "metadata": {
    "colab": {
      "name": "train_test.ipynb",
      "version": "0.3.2",
      "provenance": [],
      "collapsed_sections": [],
      "include_colab_link": true
    },
    "kernelspec": {
      "display_name": "Python 3",
      "language": "python",
      "name": "python3"
    }
  },
  "cells": [
    {
      "cell_type": "markdown",
      "metadata": {
        "id": "view-in-github",
        "colab_type": "text"
      },
      "source": [
        "<a href=\"https://colab.research.google.com/github/alexanderwhatley/TCR-Pathogen-Identification/blob/master/train_test.ipynb\" target=\"_parent\"><img src=\"https://colab.research.google.com/assets/colab-badge.svg\" alt=\"Open In Colab\"/></a>"
      ]
    },
    {
      "metadata": {
        "id": "u4tHbv-aNp2P",
        "colab_type": "text"
      },
      "cell_type": "markdown",
      "source": [
        "Requires install of pepnet (https://github.com/openvax/pepnet) and MHCFlurry (https://github.com/openvax/mhcflurry). "
      ]
    },
    {
      "metadata": {
        "id": "FQmach7COBVs",
        "colab_type": "code",
        "outputId": "56ac2ad0-98f5-49c4-a133-36924a51b8c2",
        "colab": {
          "base_uri": "https://localhost:8080/",
          "height": 1309
        }
      },
      "cell_type": "code",
      "source": [
        "!pip install pepnet\n",
        "!pip install mhcflurry\n",
        "!pip install biopython"
      ],
      "execution_count": 1,
      "outputs": [
        {
          "output_type": "stream",
          "text": [
            "Collecting pepnet\n",
            "  Downloading https://files.pythonhosted.org/packages/6d/65/28a0d16f644f65502f1c7247d938d0c0cab70107f5fdc9364eaee01de1cb/pepnet-0.3.2.tar.gz\n",
            "Requirement already satisfied: numpy>=1.7 in /usr/local/lib/python3.6/dist-packages (from pepnet) (1.14.6)\n",
            "Requirement already satisfied: keras>=2.0.2 in /usr/local/lib/python3.6/dist-packages (from pepnet) (2.2.4)\n",
            "Collecting serializable (from pepnet)\n",
            "  Downloading https://files.pythonhosted.org/packages/1a/8c/140c24214f503366c80cf9d42c474df2696ea5291bdd318c24d014a859db/serializable-0.1.1.tar.gz\n",
            "Requirement already satisfied: ujson in /usr/local/lib/python3.6/dist-packages (from pepnet) (1.35)\n",
            "Requirement already satisfied: keras-preprocessing>=1.0.5 in /usr/local/lib/python3.6/dist-packages (from keras>=2.0.2->pepnet) (1.0.5)\n",
            "Requirement already satisfied: keras-applications>=1.0.6 in /usr/local/lib/python3.6/dist-packages (from keras>=2.0.2->pepnet) (1.0.6)\n",
            "Requirement already satisfied: six>=1.9.0 in /usr/local/lib/python3.6/dist-packages (from keras>=2.0.2->pepnet) (1.11.0)\n",
            "Requirement already satisfied: scipy>=0.14 in /usr/local/lib/python3.6/dist-packages (from keras>=2.0.2->pepnet) (1.1.0)\n",
            "Requirement already satisfied: h5py in /usr/local/lib/python3.6/dist-packages (from keras>=2.0.2->pepnet) (2.8.0)\n",
            "Requirement already satisfied: pyyaml in /usr/local/lib/python3.6/dist-packages (from keras>=2.0.2->pepnet) (3.13)\n",
            "Collecting typechecks>=0.0.2 (from serializable->pepnet)\n",
            "  Downloading https://files.pythonhosted.org/packages/62/21/15129201c1f52f6af1e7809e96dce46da4b406c2c07fe9425e92f51edc5c/typechecks-0.1.0.tar.gz\n",
            "Collecting simplejson (from serializable->pepnet)\n",
            "\u001b[?25l  Downloading https://files.pythonhosted.org/packages/e3/24/c35fb1c1c315fc0fffe61ea00d3f88e85469004713dab488dee4f35b0aff/simplejson-3.16.0.tar.gz (81kB)\n",
            "\u001b[K    100% |████████████████████████████████| 81kB 4.4MB/s \n",
            "\u001b[?25hBuilding wheels for collected packages: pepnet, serializable, typechecks, simplejson\n",
            "  Running setup.py bdist_wheel for pepnet ... \u001b[?25l-\b \b\\\b \bdone\n",
            "\u001b[?25h  Stored in directory: /root/.cache/pip/wheels/32/1b/7c/1832578608902eb544bccad6514ffe5d15d270df4f9d3cd37d\n",
            "  Running setup.py bdist_wheel for serializable ... \u001b[?25l-\b \b\\\b \bdone\n",
            "\u001b[?25h  Stored in directory: /root/.cache/pip/wheels/57/ea/39/77dbaca2061ba8e87ad8b83ead5814467fb0d748d1d9f1d77d\n",
            "  Running setup.py bdist_wheel for typechecks ... \u001b[?25l-\b \b\\\b \bdone\n",
            "\u001b[?25h  Stored in directory: /root/.cache/pip/wheels/27/ad/82/4a9bbc88f1d31bb1a0c053e29efafc02f56e2ed1598f5639b2\n",
            "  Running setup.py bdist_wheel for simplejson ... \u001b[?25l-\b \b\\\b \b|\b \bdone\n",
            "\u001b[?25h  Stored in directory: /root/.cache/pip/wheels/5d/1a/1e/0350bb3df3e74215cd91325344cc86c2c691f5306eb4d22c77\n",
            "Successfully built pepnet serializable typechecks simplejson\n",
            "Installing collected packages: typechecks, simplejson, serializable, pepnet\n",
            "Successfully installed pepnet-0.3.2 serializable-0.1.1 simplejson-3.16.0 typechecks-0.1.0\n",
            "Collecting mhcflurry\n",
            "\u001b[?25l  Downloading https://files.pythonhosted.org/packages/5a/4c/c0b82dfeaa0458d09fbf9ab9fb1f19148cbfc235638dd3f6c0f4feeab90f/mhcflurry-1.2.2.tar.gz (57kB)\n",
            "\u001b[K    100% |████████████████████████████████| 61kB 2.2MB/s \n",
            "\u001b[?25hRequirement already satisfied: six in /usr/local/lib/python3.6/dist-packages (from mhcflurry) (1.11.0)\n",
            "Requirement already satisfied: numpy>=1.11 in /usr/local/lib/python3.6/dist-packages (from mhcflurry) (1.14.6)\n",
            "Requirement already satisfied: pandas>=0.20.3 in /usr/local/lib/python3.6/dist-packages (from mhcflurry) (0.22.0)\n",
            "Requirement already satisfied: Keras>=2.0.9 in /usr/local/lib/python3.6/dist-packages (from mhcflurry) (2.2.4)\n",
            "Collecting appdirs (from mhcflurry)\n",
            "  Downloading https://files.pythonhosted.org/packages/56/eb/810e700ed1349edde4cbdc1b2a21e28cdf115f9faf263f6bbf8447c1abf3/appdirs-1.4.3-py2.py3-none-any.whl\n",
            "Requirement already satisfied: tensorflow>=1.1.0 in /usr/local/lib/python3.6/dist-packages (from mhcflurry) (1.12.0)\n",
            "Requirement already satisfied: scikit-learn in /usr/local/lib/python3.6/dist-packages (from mhcflurry) (0.20.2)\n",
            "Collecting mhcnames (from mhcflurry)\n",
            "  Downloading https://files.pythonhosted.org/packages/30/30/29cb727cacfcb6ab465df723b4b632a47b4989f526f5ade3b0592763d34e/mhcnames-0.4.8.tar.gz\n",
            "Requirement already satisfied: pyyaml in /usr/local/lib/python3.6/dist-packages (from mhcflurry) (3.13)\n",
            "Requirement already satisfied: tqdm in /usr/local/lib/python3.6/dist-packages (from mhcflurry) (4.28.1)\n",
            "Requirement already satisfied: pytz>=2011k in /usr/local/lib/python3.6/dist-packages (from pandas>=0.20.3->mhcflurry) (2018.9)\n",
            "Requirement already satisfied: python-dateutil>=2 in /usr/local/lib/python3.6/dist-packages (from pandas>=0.20.3->mhcflurry) (2.5.3)\n",
            "Requirement already satisfied: h5py in /usr/local/lib/python3.6/dist-packages (from Keras>=2.0.9->mhcflurry) (2.8.0)\n",
            "Requirement already satisfied: scipy>=0.14 in /usr/local/lib/python3.6/dist-packages (from Keras>=2.0.9->mhcflurry) (1.1.0)\n",
            "Requirement already satisfied: keras-preprocessing>=1.0.5 in /usr/local/lib/python3.6/dist-packages (from Keras>=2.0.9->mhcflurry) (1.0.5)\n",
            "Requirement already satisfied: keras-applications>=1.0.6 in /usr/local/lib/python3.6/dist-packages (from Keras>=2.0.9->mhcflurry) (1.0.6)\n",
            "Requirement already satisfied: grpcio>=1.8.6 in /usr/local/lib/python3.6/dist-packages (from tensorflow>=1.1.0->mhcflurry) (1.15.0)\n",
            "Requirement already satisfied: absl-py>=0.1.6 in /usr/local/lib/python3.6/dist-packages (from tensorflow>=1.1.0->mhcflurry) (0.6.1)\n",
            "Requirement already satisfied: astor>=0.6.0 in /usr/local/lib/python3.6/dist-packages (from tensorflow>=1.1.0->mhcflurry) (0.7.1)\n",
            "Requirement already satisfied: tensorboard<1.13.0,>=1.12.0 in /usr/local/lib/python3.6/dist-packages (from tensorflow>=1.1.0->mhcflurry) (1.12.2)\n",
            "Requirement already satisfied: protobuf>=3.6.1 in /usr/local/lib/python3.6/dist-packages (from tensorflow>=1.1.0->mhcflurry) (3.6.1)\n",
            "Requirement already satisfied: gast>=0.2.0 in /usr/local/lib/python3.6/dist-packages (from tensorflow>=1.1.0->mhcflurry) (0.2.1.post0)\n",
            "Requirement already satisfied: wheel>=0.26 in /usr/local/lib/python3.6/dist-packages (from tensorflow>=1.1.0->mhcflurry) (0.32.3)\n",
            "Requirement already satisfied: termcolor>=1.1.0 in /usr/local/lib/python3.6/dist-packages (from tensorflow>=1.1.0->mhcflurry) (1.1.0)\n",
            "Requirement already satisfied: markdown>=2.6.8 in /usr/local/lib/python3.6/dist-packages (from tensorboard<1.13.0,>=1.12.0->tensorflow>=1.1.0->mhcflurry) (3.0.1)\n",
            "Requirement already satisfied: werkzeug>=0.11.10 in /usr/local/lib/python3.6/dist-packages (from tensorboard<1.13.0,>=1.12.0->tensorflow>=1.1.0->mhcflurry) (0.14.1)\n",
            "Requirement already satisfied: setuptools in /usr/local/lib/python3.6/dist-packages (from protobuf>=3.6.1->tensorflow>=1.1.0->mhcflurry) (40.6.3)\n",
            "Building wheels for collected packages: mhcflurry, mhcnames\n",
            "  Running setup.py bdist_wheel for mhcflurry ... \u001b[?25l-\b \b\\\b \bdone\n",
            "\u001b[?25h  Stored in directory: /root/.cache/pip/wheels/b6/ca/75/5c6695e072d67c8e6e344ada8b0ca3a05817b5a11fe57c56a4\n",
            "  Running setup.py bdist_wheel for mhcnames ... \u001b[?25l-\b \b\\\b \bdone\n",
            "\u001b[?25h  Stored in directory: /root/.cache/pip/wheels/8a/a6/b0/a27614ca44aeab955ddb7c9f14fa733d6462fdc86b1fed40d9\n",
            "Successfully built mhcflurry mhcnames\n",
            "Installing collected packages: appdirs, mhcnames, mhcflurry\n",
            "Successfully installed appdirs-1.4.3 mhcflurry-1.2.2 mhcnames-0.4.8\n",
            "Collecting biopython\n",
            "\u001b[?25l  Downloading https://files.pythonhosted.org/packages/28/15/8ac646ff24cfa2588b4d5e5ea51e8d13f3d35806bd9498fbf40ef79026fd/biopython-1.73-cp36-cp36m-manylinux1_x86_64.whl (2.2MB)\n",
            "\u001b[K    100% |████████████████████████████████| 2.2MB 6.8MB/s \n",
            "\u001b[?25hRequirement already satisfied: numpy in /usr/local/lib/python3.6/dist-packages (from biopython) (1.14.6)\n",
            "Installing collected packages: biopython\n",
            "Successfully installed biopython-1.73\n"
          ],
          "name": "stdout"
        }
      ]
    },
    {
      "metadata": {
        "id": "1u7fG4a_OmiZ",
        "colab_type": "code",
        "colab": {}
      },
      "cell_type": "code",
      "source": [
        "import io\n",
        "from google.colab import auth\n",
        "from googleapiclient.discovery import build\n",
        "from googleapiclient.http import MediaIoBaseDownload\n",
        "auth.authenticate_user()\n",
        "\n",
        "def download_file(name, file_id):\n",
        "    drive_service = build('drive', 'v3')\n",
        "    request = drive_service.files().get_media(fileId=file_id)\n",
        "    downloaded = io.BytesIO()\n",
        "    downloader = MediaIoBaseDownload(downloaded, request)\n",
        "    done = False\n",
        "    while done is False:\n",
        "      status, done = downloader.next_chunk()\n",
        "      print('Percent downloaded', int(100 * status.progress()))\n",
        "    downloaded.seek(0)\n",
        "    f = open(name, 'wb')\n",
        "    f.write(downloaded.read())\n",
        "    f.close()"
      ],
      "execution_count": 0,
      "outputs": []
    },
    {
      "metadata": {
        "id": "EKimLfTyOpBg",
        "colab_type": "code",
        "outputId": "505dc195-5e64-4136-9a10-c9f3dda0e433",
        "colab": {
          "base_uri": "https://localhost:8080/",
          "height": 68
        }
      },
      "cell_type": "code",
      "source": [
        "download_file('vdjdb_data.tsv', '1Vzpw6hprVQjRbmM6wZXMeY3HQW-OuXlY')\n",
        "download_file('uniprot-filtered-reviewed-human.fasta', '1lRALwQInvWtdUpVsgSiZnEhuTPbZJX6B')\n",
        "download_file('McPAS-TCR.csv', '19eV_s7h3ueFDl_FeE5D8fycd9oHhiBo-')"
      ],
      "execution_count": 3,
      "outputs": [
        {
          "output_type": "stream",
          "text": [
            "Percent downloaded 100\n",
            "Percent downloaded 100\n",
            "Percent downloaded 100\n"
          ],
          "name": "stdout"
        }
      ]
    },
    {
      "metadata": {
        "id": "wX2VaTzdNp2R",
        "colab_type": "text"
      },
      "cell_type": "markdown",
      "source": [
        "## Read in Positive Binding Datasets "
      ]
    },
    {
      "metadata": {
        "id": "N1mh9iUtNp2S",
        "colab_type": "code",
        "outputId": "98a3efa4-68a0-4373-fc05-d43a5c47f56b",
        "colab": {
          "base_uri": "https://localhost:8080/",
          "height": 51
        }
      },
      "cell_type": "code",
      "source": [
        "import re\n",
        "import numpy as np\n",
        "import pandas as pd\n",
        "import matplotlib.pyplot as plt \n",
        "from pepnet.encoder import Encoder\n",
        "\n",
        "vdjdb_data = pd.read_csv('vdjdb_data.tsv', sep='\\t')\n",
        "mcpas_data = pd.read_csv('McPAS-TCR.csv', encoding = \"ISO-8859-1\")\n",
        "# take only human data for now \n",
        "mcpas_data = mcpas_data[(mcpas_data['Species'] == 'Human') & \n",
        "                        pd.notnull(mcpas_data['MHC']) & \n",
        "                        pd.notnull(mcpas_data['CDR3.beta.aa']) & \n",
        "                        pd.notnull(mcpas_data['Epitope.peptide'])] \n",
        "\n",
        "mhc_i_regex = re.compile('HLA-.:*')\n",
        "vdjdb_data = vdjdb_data[['CDR3', 'MHC A', 'MHC class', 'Epitope']].rename(columns={'MHC A': 'MHC'})\n",
        "mcpas_data = mcpas_data[['CDR3.beta.aa', 'Epitope.peptide', 'MHC']].rename(\n",
        "    columns={'CDR3.beta.aa' : 'CDR3', 'Epitope.peptide': 'Epitope'})\n",
        "mcpas_data['MHC class'] = mcpas_data['MHC'].apply(lambda x: 'MHCI' if mhc_i_regex.match(x) else 'MHCII')\n",
        "mcpas_data['CDR3'] = mcpas_data['CDR3'].str.upper()\n",
        "mcpas_data['Epitope'] = mcpas_data['Epitope'].str.upper()\n",
        "\n",
        "all_data = pd.concat([vdjdb_data, mcpas_data], ignore_index=True)\n",
        "all_data = all_data[all_data['MHC class'] == 'MHCI']\n",
        "all_data.drop(['MHC class'], axis=1, inplace=True)\n",
        "all_data.drop_duplicates(inplace=True)\n",
        "cdr3_length = all_data['CDR3'].apply(len)\n",
        "peptide_length = all_data['Epitope'].apply(len)\n",
        "\n",
        "print('Max CDR3 length = {}, Max peptide length = {}'.format(cdr3_length.max(), peptide_length.max()))\n",
        "print('Number of examples: {}'.format(all_data.shape[0]))\n",
        "\n",
        "lengths_total = []\n",
        "for length in [8, 9, 10, 11]:\n",
        "  lengths_total.append(all_data[all_data['Epitope'].str.len() == length].shape[0])\n",
        "lengths_total = np.array(lengths_total)\n",
        "lengths_prob = lengths_total / np.sum(lengths_total)"
      ],
      "execution_count": 8,
      "outputs": [
        {
          "output_type": "stream",
          "text": [
            "Max CDR3 length = 38, Max peptide length = 20\n",
            "Number of examples: 21446\n"
          ],
          "name": "stdout"
        }
      ]
    },
    {
      "metadata": {
        "id": "gSFHh8xuNp2Z",
        "colab_type": "code",
        "outputId": "548d96ed-9984-4bd9-949b-85dda5dd6f27",
        "colab": {
          "base_uri": "https://localhost:8080/",
          "height": 379
        }
      },
      "cell_type": "code",
      "source": [
        "plt.hist(cdr3_length, bins=np.arange(0, 30))\n",
        "plt.title('CDR3 Lengths')"
      ],
      "execution_count": 41,
      "outputs": [
        {
          "output_type": "execute_result",
          "data": {
            "text/plain": [
              "Text(0.5,1,'CDR3 Lengths')"
            ]
          },
          "metadata": {
            "tags": []
          },
          "execution_count": 41
        },
        {
          "output_type": "display_data",
          "data": {
            "image/png": "[encoded data removed]",
            "text/plain": [
              "<matplotlib.figure.Figure at 0x7f5feb7dd9e8>"
            ]
          },
          "metadata": {
            "tags": []
          }
        }
      ]
    },
    {
      "metadata": {
        "id": "5BsNvjEFNp2c",
        "colab_type": "code",
        "outputId": "ba5104ff-a7ac-4462-ca99-858a07bd068f",
        "colab": {
          "base_uri": "https://localhost:8080/",
          "height": 379
        }
      },
      "cell_type": "code",
      "source": [
        "plt.hist(peptide_length, bins=np.arange(0, 30))\n",
        "plt.title('Peptide Lengths')"
      ],
      "execution_count": 42,
      "outputs": [
        {
          "output_type": "execute_result",
          "data": {
            "text/plain": [
              "Text(0.5,1,'Peptide Lengths')"
            ]
          },
          "metadata": {
            "tags": []
          },
          "execution_count": 42
        },
        {
          "output_type": "display_data",
          "data": {
            "image/png": "[encoded data removed]",
            "text/plain": [
              "<matplotlib.figure.Figure at 0x7f5feb62d828>"
            ]
          },
          "metadata": {
            "tags": []
          }
        }
      ]
    },
    {
      "metadata": {
        "id": "Dy0jTMboNp2g",
        "colab_type": "code",
        "colab": {}
      },
      "cell_type": "code",
      "source": [
        "encoder = Encoder()\n",
        "# for now only keep data points with CDR3 length <= 20 and epitope length <= 11\n",
        "all_data = all_data[(all_data['CDR3'].str.len() <= 20) & \n",
        "                    (all_data['Epitope'].str.len() <= 11)]\n",
        "cdr3_encoded = encoder.encode_onehot(all_data['CDR3'].values, max_peptide_length=20)\n",
        "cdr3_encoded = cdr3_encoded.reshape((len(cdr3_encoded), -1))\n",
        "epitope_encoded = encoder.encode_onehot(all_data['Epitope'].values, max_peptide_length=11)\n",
        "epitope_encoded = epitope_encoded.reshape((len(epitope_encoded), -1))\n",
        "combined_positive_peptides = np.concatenate((cdr3_encoded, epitope_encoded), axis=1)"
      ],
      "execution_count": 0,
      "outputs": []
    },
    {
      "metadata": {
        "id": "vvuxi3UXnsaY",
        "colab_type": "text"
      },
      "cell_type": "markdown",
      "source": [
        "## Train Model that determines whether the TCR strand attaches to Epitope"
      ]
    },
    {
      "metadata": {
        "id": "16lvdwZKnr3J",
        "colab_type": "code",
        "colab": {}
      },
      "cell_type": "code",
      "source": [
        "from sklearn.model_selection import train_test_split\n",
        "from sklearn.ensemble import RandomForestClassifier, GradientBoostingClassifier\n",
        "from sklearn.linear_model import LogisticRegression\n",
        "from sklearn.metrics import confusion_matrix\n",
        "\n",
        "def get_accuracy(combined_positive_peptides, combined_negative_peptides):\n",
        "  experiment_data = np.concatenate((combined_positive_peptides, \n",
        "                                    combined_negative_peptides), axis=0)\n",
        "  experiment_labels = np.concatenate((np.ones(len(combined_positive_peptides)), \n",
        "                                     np.zeros(len(combined_negative_peptides))), axis=0)\n",
        "  X_train, X_test, y_train, y_test = train_test_split(experiment_data, experiment_labels, \n",
        "                                                      test_size=0.25, random_state=42)\n",
        "  clf = RandomForestClassifier()\n",
        "  clf.fit(X_train, y_train)\n",
        "  print('Accuracy', clf.score(X_test, y_test))\n",
        "  predictions = clf.predict(X_test)\n",
        "  cm = confusion_matrix(y_test, predictions)\n",
        "  print('Confusion matrix', cm)"
      ],
      "execution_count": 0,
      "outputs": []
    },
    {
      "metadata": {
        "id": "ybO18KVCNp2i",
        "colab_type": "text"
      },
      "cell_type": "markdown",
      "source": [
        "## Create Negative Binding Data "
      ]
    },
    {
      "metadata": {
        "id": "cRwJlJFWNp2j",
        "colab_type": "code",
        "colab": {
          "base_uri": "https://localhost:8080/",
          "height": 119
        },
        "outputId": "4098fdda-3a7a-40cc-cde6-1f1af4013479"
      },
      "cell_type": "code",
      "source": [
        "# right now, we create random epitopes, and assume that they do not bind to the CDR3 strands \n",
        "amino_acids = list('ARNDCQEGHILKMFPSTWYV')\n",
        "training_set_size = 25000\n",
        "lengths = [8, 9, 10, 11]\n",
        "negative_epitopes = []\n",
        "for length in lengths:\n",
        "    epitopes_length = np.random.choice(amino_acids, \n",
        "                                       size=(training_set_size//len(lengths), length))\n",
        "    epitopes_length = [''.join(aas) for aas in epitopes_length]\n",
        "    negative_epitopes.extend(epitopes_length)\n",
        "\n",
        "negative_epitopes_encoded = encoder.encode_onehot(negative_epitopes, max_peptide_length=11)\n",
        "negative_epitopes_encoded = negative_epitopes_encoded.reshape((len(negative_epitopes_encoded), -1))\n",
        "negative_cdr3 = np.random.choice(all_data['CDR3'].values, size=training_set_size)\n",
        "negative_cdr3_encoded = encoder.encode_onehot(negative_cdr3, max_peptide_length=20)\n",
        "negative_cdr3_encoded = negative_cdr3_encoded.reshape((len(negative_cdr3_encoded), -1))\n",
        "combined_negative_peptides = np.concatenate((negative_cdr3_encoded, negative_epitopes_encoded), axis=1)\n",
        "\n",
        "print('Accuracy from random epitopes')\n",
        "get_accuracy(combined_positive_peptides, combined_negative_peptides)"
      ],
      "execution_count": 11,
      "outputs": [
        {
          "output_type": "stream",
          "text": [
            "Accuracy from random epitopes\n"
          ],
          "name": "stdout"
        },
        {
          "output_type": "stream",
          "text": [
            "/usr/local/lib/python3.6/dist-packages/sklearn/ensemble/forest.py:246: FutureWarning: The default value of n_estimators will change from 10 in version 0.20 to 100 in 0.22.\n",
            "  \"10 in version 0.20 to 100 in 0.22.\", FutureWarning)\n"
          ],
          "name": "stderr"
        },
        {
          "output_type": "stream",
          "text": [
            "Accuracy 0.998000173897922\n",
            "Confusion matrix [[6249    0]\n",
            " [  23 5229]]\n"
          ],
          "name": "stdout"
        }
      ]
    },
    {
      "metadata": {
        "id": "FSC4ZVQcNp2n",
        "colab_type": "code",
        "colab": {
          "base_uri": "https://localhost:8080/",
          "height": 119
        },
        "outputId": "28d290a7-a2b8-40d4-8aa9-ad00a82a6881"
      },
      "cell_type": "code",
      "source": [
        "# take our training data, and mutate them (assuming that TCR binding is sparse), and test\n",
        "amino_acids = list('ARNDCQEGHILKMFPSTWYV')\n",
        "def point_mutate_epitope(epitope):\n",
        "    mutation_index = np.random.randint(len(epitope))\n",
        "    new_aa = amino_acids[np.random.randint(len(amino_acids))]\n",
        "    mutated_epitope = epitope[:mutation_index] + new_aa + epitope[(mutation_index + 1):]\n",
        "    return mutated_epitope\n",
        "\n",
        "def mutate_epitope(epitope):\n",
        "    num_mutations = np.random.randint(1, 4)\n",
        "    mutation_indices = np.random.choice(np.arange(len(epitope)), num_mutations, replace=False)\n",
        "    new_aas = {}\n",
        "    for ind in mutation_indices:\n",
        "        new_aas[ind] = amino_acids[np.random.randint(len(amino_acids))]\n",
        "    mutated_epitope = ''\n",
        "    for ind, aa in enumerate(epitope):\n",
        "        if ind in mutation_indices:\n",
        "            mutated_epitope += new_aas[ind]\n",
        "        else:\n",
        "            mutated_epitope += aa\n",
        "    return mutated_epitope\n",
        "\n",
        "#negative_epitopes = all_data['Epitope'].apply(point_mutate_epitope).values\n",
        "negative_epitopes = all_data['Epitope'].apply(mutate_epitope).values\n",
        "negative_epitopes_encoded = encoder.encode_onehot(negative_epitopes, max_peptide_length=11)\n",
        "negative_epitopes_encoded = negative_epitopes_encoded.reshape((len(negative_epitopes_encoded), -1))\n",
        "negative_cdr3 = all_data['CDR3'].values.copy()\n",
        "negative_cdr3_encoded = encoder.encode_onehot(negative_cdr3, max_peptide_length=20)\n",
        "negative_cdr3_encoded = negative_cdr3_encoded.reshape((len(negative_cdr3_encoded), -1))\n",
        "combined_negative_peptides = np.concatenate((negative_cdr3_encoded, negative_epitopes_encoded), axis=1)\n",
        "\n",
        "print('Accuracy from random mutations in training peptides')\n",
        "get_accuracy(combined_positive_peptides, combined_negative_peptides)"
      ],
      "execution_count": 12,
      "outputs": [
        {
          "output_type": "stream",
          "text": [
            "Accuracy from random mutations in training peptides\n"
          ],
          "name": "stdout"
        },
        {
          "output_type": "stream",
          "text": [
            "/usr/local/lib/python3.6/dist-packages/sklearn/ensemble/forest.py:246: FutureWarning: The default value of n_estimators will change from 10 in version 0.20 to 100 in 0.22.\n",
            "  \"10 in version 0.20 to 100 in 0.22.\", FutureWarning)\n"
          ],
          "name": "stderr"
        },
        {
          "output_type": "stream",
          "text": [
            "Accuracy 0.9576230835158557\n",
            "Confusion matrix [[4896  270]\n",
            " [ 175 5160]]\n"
          ],
          "name": "stdout"
        }
      ]
    },
    {
      "metadata": {
        "id": "ituBov78SPBV",
        "colab_type": "code",
        "colab": {
          "base_uri": "https://localhost:8080/",
          "height": 119
        },
        "outputId": "fa21e9bb-a956-456e-8324-5ffe869db2f6"
      },
      "cell_type": "code",
      "source": [
        "# read in human genome proteins, and generate negative epitope data from that (assume one epitope per protein, and that they are conserved)\n",
        "from Bio import SeqIO\n",
        "\n",
        "def is_epitope_valid(epitope):\n",
        "  if 'U' not in epitope:\n",
        "    return True\n",
        "  return False \n",
        "\n",
        "negative_epitopes = []\n",
        "for seq_record in SeqIO.parse(\"uniprot-filtered-reviewed-human.fasta\", \"fasta\"):\n",
        "  if len(seq_record.seq) < 11:\n",
        "    continue\n",
        "  protein_seq = str(seq_record.seq)\n",
        "  epitope_length = np.random.choice([8, 9, 10, 11], p=lengths_prob)\n",
        "  epitope_start_ind = np.random.randint(len(protein_seq) - epitope_length)\n",
        "  epitope = protein_seq[epitope_start_ind:(epitope_start_ind + epitope_length)]\n",
        "  if is_epitope_valid(epitope):\n",
        "    negative_epitopes.append(epitope)\n",
        "  \n",
        "negative_epitopes_encoded = encoder.encode_onehot(negative_epitopes, max_peptide_length=11)\n",
        "negative_epitopes_encoded = negative_epitopes_encoded.reshape((len(negative_epitopes_encoded), -1))\n",
        "negative_cdr3 = all_data['CDR3'].values[:len(negative_epitopes)].copy()\n",
        "negative_cdr3_encoded = encoder.encode_onehot(negative_cdr3, max_peptide_length=20)\n",
        "negative_cdr3_encoded = negative_cdr3_encoded.reshape((len(negative_cdr3_encoded), -1))\n",
        "combined_negative_peptides = np.concatenate((negative_cdr3_encoded, negative_epitopes_encoded), axis=1)\n",
        "\n",
        "print('Accuracy from protein epitopes')\n",
        "get_accuracy(combined_positive_peptides, combined_negative_peptides)"
      ],
      "execution_count": 13,
      "outputs": [
        {
          "output_type": "stream",
          "text": [
            "Accuracy from protein epitopes\n"
          ],
          "name": "stdout"
        },
        {
          "output_type": "stream",
          "text": [
            "/usr/local/lib/python3.6/dist-packages/sklearn/ensemble/forest.py:246: FutureWarning: The default value of n_estimators will change from 10 in version 0.20 to 100 in 0.22.\n",
            "  \"10 in version 0.20 to 100 in 0.22.\", FutureWarning)\n"
          ],
          "name": "stderr"
        },
        {
          "output_type": "stream",
          "text": [
            "Accuracy 0.9981642512077294\n",
            "Confusion matrix [[5125    0]\n",
            " [  19 5206]]\n"
          ],
          "name": "stdout"
        }
      ]
    },
    {
      "metadata": {
        "id": "aHEK9aIpXrzE",
        "colab_type": "code",
        "colab": {
          "base_uri": "https://localhost:8080/",
          "height": 119
        },
        "outputId": "617b3632-76a9-4b1e-82c6-fc030cf180da"
      },
      "cell_type": "code",
      "source": [
        "# for each patient, create data by setting positive examples to be those from the training set, and negative examples \n",
        "# to be those for each TCR from the patient and each epitope for that patient NOT in the training set (permutation test)\n",
        "# if patient's id is blank, we only use its positive examples in the training \n",
        "import json \n",
        "\n",
        "vdjdb_data = pd.read_csv('vdjdb_data.tsv', sep='\\t')\n",
        "vdjdb_data = vdjdb_data[['CDR3', 'Epitope', 'Meta', 'Reference']]\n",
        "vdjdb_data = vdjdb_data[(vdjdb_data['CDR3'].str.len() <= 20) & \n",
        "                    (vdjdb_data['Epitope'].str.len() <= 11)]\n",
        "vdjdb_data['Meta'] = vdjdb_data['Meta'].apply(lambda x: dict(json.loads(x)))\n",
        "vdjdb_data['Subject_ID'] = vdjdb_data['Meta'].apply(lambda x: x['subject.id'])\n",
        "vdjdb_data_groupby = vdjdb_data.groupby(['Reference', 'Subject_ID']) # group corresponds to one patient \n",
        "positive_epitopes, positive_cdr3, negative_epitopes, negative_cdr3 = [], [], [], []\n",
        "for ind, group in vdjdb_data_groupby:\n",
        "  positive_cdr3.extend(group['CDR3'].tolist())\n",
        "  positive_epitopes.extend(group['Epitope'].tolist())\n",
        "  binding_complex = set([(row['CDR3'], row['Epitope']) for _, row in group.iterrows()])\n",
        "  cdr3_distinct, epitope_distinct = set(group['CDR3']), set(group['Epitope'])\n",
        "  if ind[1] != '':\n",
        "    for cdr3 in cdr3_distinct:\n",
        "      for epitope in epitope_distinct:\n",
        "        if (cdr3, epitope) not in binding_complex:\n",
        "          negative_cdr3.append(cdr3)\n",
        "          negative_epitopes.append(epitope)\n",
        "\n",
        "positive_epitopes_encoded = encoder.encode_onehot(positive_epitopes, max_peptide_length=11)\n",
        "positive_epitopes_encoded = positive_epitopes_encoded.reshape((len(positive_epitopes_encoded), -1))\n",
        "positive_cdr3_encoded = encoder.encode_onehot(positive_cdr3, max_peptide_length=20)\n",
        "positive_cdr3_encoded = positive_cdr3_encoded.reshape((len(positive_cdr3_encoded), -1))\n",
        "combined_positive_peptides = np.concatenate((positive_cdr3_encoded, positive_epitopes_encoded), axis=1)\n",
        "\n",
        "negative_epitopes_encoded = encoder.encode_onehot(negative_epitopes, max_peptide_length=11)\n",
        "negative_epitopes_encoded = negative_epitopes_encoded.reshape((len(negative_epitopes_encoded), -1))\n",
        "negative_cdr3_encoded = encoder.encode_onehot(negative_cdr3, max_peptide_length=20)\n",
        "negative_cdr3_encoded = negative_cdr3_encoded.reshape((len(negative_cdr3_encoded), -1))\n",
        "combined_negative_peptides = np.concatenate((negative_cdr3_encoded, negative_epitopes_encoded), axis=1)\n",
        "\n",
        "print('Accuracy from permutation test')\n",
        "get_accuracy(combined_positive_peptides, combined_negative_peptides)"
      ],
      "execution_count": 18,
      "outputs": [
        {
          "output_type": "stream",
          "text": [
            "Accuracy from permutation test\n"
          ],
          "name": "stdout"
        },
        {
          "output_type": "stream",
          "text": [
            "/usr/local/lib/python3.6/dist-packages/sklearn/ensemble/forest.py:246: FutureWarning: The default value of n_estimators will change from 10 in version 0.20 to 100 in 0.22.\n",
            "  \"10 in version 0.20 to 100 in 0.22.\", FutureWarning)\n"
          ],
          "name": "stderr"
        },
        {
          "output_type": "stream",
          "text": [
            "Accuracy 0.8843143926505614\n",
            "Confusion matrix [[ 849  384]\n",
            " [ 296 4349]]\n"
          ],
          "name": "stdout"
        }
      ]
    },
    {
      "metadata": {
        "id": "qprmAZBQy8Ja",
        "colab_type": "code",
        "colab": {}
      },
      "cell_type": "code",
      "source": [
        ""
      ],
      "execution_count": 0,
      "outputs": []
    }
  ]
}