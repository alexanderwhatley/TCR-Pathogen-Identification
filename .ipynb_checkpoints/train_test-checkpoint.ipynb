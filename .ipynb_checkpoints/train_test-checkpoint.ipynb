{
 "cells": [
  {
   "cell_type": "markdown",
   "metadata": {},
   "source": [
    "Requires install of pepnet (https://github.com/openvax/pepnet) and MHCFlurry (https://github.com/openvax/mhcflurry). "
   ]
  },
  {
   "cell_type": "markdown",
   "metadata": {},
   "source": [
    "## Read in Positive Binding Datasets "
   ]
  },
  {
   "cell_type": "code",
   "execution_count": 44,
   "metadata": {},
   "outputs": [
    {
     "name": "stdout",
     "output_type": "stream",
     "text": [
      "Max CDR3 length = 38, Max peptide length = 20\n",
      "Number of examples: 21446\n"
     ]
    },
    {
     "name": "stderr",
     "output_type": "stream",
     "text": [
      "/home/alexander/anaconda3/lib/python3.6/site-packages/ipykernel_launcher.py:23: FutureWarning: Sorting because non-concatenation axis is not aligned. A future version\n",
      "of pandas will change to not sort by default.\n",
      "\n",
      "To accept the future behavior, pass 'sort=False'.\n",
      "\n",
      "To retain the current behavior and silence the warning, pass 'sort=True'.\n",
      "\n"
     ]
    }
   ],
   "source": [
    "import re\n",
    "import numpy as np\n",
    "import pandas as pd\n",
    "import matplotlib.pyplot as plt \n",
    "from pepnet.encoder import Encoder\n",
    "\n",
    "vdjdb_data = pd.read_csv('vdjdb_data.tsv', sep='\\t')\n",
    "mcpas_data = pd.read_csv('McPAS-TCR.csv', encoding = \"ISO-8859-1\")\n",
    "# take only human data for now \n",
    "mcpas_data = mcpas_data[(mcpas_data['Species'] == 'Human') & \n",
    "                        pd.notnull(mcpas_data['MHC']) & \n",
    "                        pd.notnull(mcpas_data['CDR3.beta.aa']) & \n",
    "                        pd.notnull(mcpas_data['Epitope.peptide'])] \n",
    "\n",
    "mhc_i_regex = re.compile('HLA-.:*')\n",
    "vdjdb_data = vdjdb_data[['CDR3', 'MHC A', 'MHC class', 'Epitope']].rename(columns={'MHC A': 'MHC'})\n",
    "mcpas_data = mcpas_data[['CDR3.beta.aa', 'Epitope.peptide', 'MHC']].rename(\n",
    "    columns={'CDR3.beta.aa' : 'CDR3', 'Epitope.peptide': 'Epitope'})\n",
    "mcpas_data['MHC class'] = mcpas_data['MHC'].apply(lambda x: 'MHCI' if mhc_i_regex.match(x) else 'MHCII')\n",
    "mcpas_data['CDR3'] = mcpas_data['CDR3'].str.upper()\n",
    "mcpas_data['Epitope'] = mcpas_data['Epitope'].str.upper()\n",
    "\n",
    "all_data = pd.concat([vdjdb_data, mcpas_data], ignore_index=True)\n",
    "all_data = all_data[all_data['MHC class'] == 'MHCI']\n",
    "all_data.drop(['MHC class'], axis=1, inplace=True)\n",
    "all_data.drop_duplicates(inplace=True)\n",
    "cdr3_length = all_data['CDR3'].apply(len)\n",
    "peptide_length = all_data['Epitope'].apply(len)\n",
    "\n",
    "print('Max CDR3 length = {}, Max peptide length = {}'.format(cdr3_length.max(), peptide_length.max()))\n",
    "print('Number of examples: {}'.format(all_data.shape[0]))"
   ]
  },
  {
   "cell_type": "code",
   "execution_count": 12,
   "metadata": {},
   "outputs": [
    {
     "data": {
      "text/plain": [
       "Text(0.5, 1.0, 'CDR3 Lengths')"
      ]
     },
     "execution_count": 12,
     "metadata": {},
     "output_type": "execute_result"
    },
    {
     "data": {
      "image/png": "[encoded data removed]",
      "text/plain": [
       "<Figure size 432x288 with 1 Axes>"
      ]
     },
     "metadata": {
      "needs_background": "light"
     },
     "output_type": "display_data"
    }
   ],
   "source": [
    "plt.hist(cdr3_length)\n",
    "plt.title('CDR3 Lengths')"
   ]
  },
  {
   "cell_type": "code",
   "execution_count": 13,
   "metadata": {},
   "outputs": [
    {
     "data": {
      "text/plain": [
       "Text(0.5, 1.0, 'Peptide Lengths')"
      ]
     },
     "execution_count": 13,
     "metadata": {},
     "output_type": "execute_result"
    },
    {
     "data": {
      "image/png": "[encoded data removed]",
      "text/plain": [
       "<Figure size 432x288 with 1 Axes>"
      ]
     },
     "metadata": {
      "needs_background": "light"
     },
     "output_type": "display_data"
    }
   ],
   "source": [
    "plt.hist(peptide_length)\n",
    "plt.title('Peptide Lengths')"
   ]
  },
  {
   "cell_type": "code",
   "execution_count": 45,
   "metadata": {},
   "outputs": [],
   "source": [
    "encoder = Encoder()\n",
    "# for now only keep data points with CDR3 length <= 20 and epitope length <= 11\n",
    "all_data = all_data[(all_data['CDR3'].str.len() <= 20) & \n",
    "                    (all_data['Epitope'].str.len() <= 11)]\n",
    "cdr3_encoded = encoder.encode_onehot(all_data['CDR3'].values, max_peptide_length=20)\n",
    "cdr3_encoded = cdr3_encoded.reshape((len(cdr3_encoded), -1))\n",
    "epitope_encoded = encoder.encode_onehot(all_data['Epitope'].values, max_peptide_length=11)\n",
    "epitope_encoded = epitope_encoded.reshape((len(epitope_encoded), -1))\n",
    "combined_positive_peptides = np.concatenate((cdr3_encoded, epitope_encoded), axis=1)"
   ]
  },
  {
   "cell_type": "markdown",
   "metadata": {},
   "source": [
    "## Create Negative Binding Data "
   ]
  },
  {
   "cell_type": "code",
   "execution_count": 22,
   "metadata": {},
   "outputs": [],
   "source": [
    "# right now, we create random epitopes, and assume that they do not bind to the CDR3 strands \n",
    "'''\n",
    "amino_acids = list('ARNDCQEGHILKMFPSTWYV')\n",
    "training_set_size = 25000\n",
    "lengths = [8, 9, 10, 11]\n",
    "negative_epitopes = []\n",
    "for length in lengths:\n",
    "    epitopes_length = np.random.choice(amino_acids, \n",
    "                                       size=(training_set_size//len(lengths), length))\n",
    "    epitopes_length = [''.join(aas) for aas in epitopes_length]\n",
    "    negative_epitopes.extend(epitopes_length)\n",
    "\n",
    "negative_epitopes_encoded = encoder.encode_onehot(negative_epitopes, max_peptide_length=11)\n",
    "negative_epitopes_encoded = negative_epitopes_encoded.reshape((len(negative_epitopes_encoded), -1))\n",
    "negative_cdr3 = np.random.choice(all_data['CDR3'].values, size=training_set_size)\n",
    "negative_cdr3_encoded = encoder.encode_onehot(negative_cdr3, max_peptide_length=20)\n",
    "negative_cdr3_encoded = negative_cdr3_encoded.reshape((len(negative_cdr3_encoded), -1))\n",
    "combined_negative_peptides = np.concatenate((negative_cdr3_encoded, negative_epitopes_encoded), axis=1)\n",
    "'''"
   ]
  },
  {
   "cell_type": "code",
   "execution_count": 46,
   "metadata": {},
   "outputs": [],
   "source": [
    "# take our training data, and mutate them (assuming that TCR binding is sparse), and test\n",
    "amino_acids = list('ARNDCQEGHILKMFPSTWYV')\n",
    "def point_mutate_epitope(epitope):\n",
    "    mutation_index = np.random.randint(len(epitope))\n",
    "    new_aa = amino_acids[np.random.randint(len(amino_acids))]\n",
    "    mutated_epitope = epitope[:mutation_index] + new_aa + epitope[(mutation_index + 1):]\n",
    "    return mutated_epitope\n",
    "\n",
    "def mutate_epitope(epitope):\n",
    "    num_mutations = np.random.randint(1, 4)\n",
    "    mutation_indices = np.random.choice(np.arange(len(epitope)), num_mutations, replace=False)\n",
    "    new_aas = {}\n",
    "    for ind in mutation_indices:\n",
    "        new_aas[ind] = amino_acids[np.random.randint(len(amino_acids))]\n",
    "    mutated_epitope = ''\n",
    "    for ind, aa in enumerate(epitope):\n",
    "        if ind in mutation_indices:\n",
    "            mutated_epitope += new_aas[ind]\n",
    "        else:\n",
    "            mutated_epitope += aa\n",
    "    return mutated_epitope\n",
    "\n",
    "#negative_epitopes = all_data['Epitope'].apply(point_mutate_epitope).values\n",
    "negative_epitopes = all_data['Epitope'].apply(mutate_epitope).values\n",
    "negative_epitopes_encoded = encoder.encode_onehot(negative_epitopes, max_peptide_length=11)\n",
    "negative_epitopes_encoded = negative_epitopes_encoded.reshape((len(negative_epitopes_encoded), -1))\n",
    "negative_cdr3 = all_data['CDR3'].values.copy()\n",
    "negative_cdr3_encoded = encoder.encode_onehot(negative_cdr3, max_peptide_length=20)\n",
    "negative_cdr3_encoded = negative_cdr3_encoded.reshape((len(negative_cdr3_encoded), -1))\n",
    "combined_negative_peptides = np.concatenate((negative_cdr3_encoded, negative_epitopes_encoded), axis=1)"
   ]
  },
  {
   "cell_type": "markdown",
   "metadata": {},
   "source": [
    "## Train Model that determines whether the TCR strand attaches to Epitope"
   ]
  },
  {
   "cell_type": "code",
   "execution_count": null,
   "metadata": {},
   "outputs": [
    {
     "name": "stderr",
     "output_type": "stream",
     "text": [
      "/home/alexander/anaconda3/lib/python3.6/site-packages/sklearn/ensemble/forest.py:246: FutureWarning: The default value of n_estimators will change from 10 in version 0.20 to 100 in 0.22.\n",
      "  \"10 in version 0.20 to 100 in 0.22.\", FutureWarning)\n"
     ]
    }
   ],
   "source": [
    "from sklearn.model_selection import train_test_split\n",
    "from sklearn.ensemble import RandomForestClassifier, GradientBoostingClassifier\n",
    "from sklearn.linear_model import LogisticRegression\n",
    "from sklearn.metrics import confusion_matrix\n",
    "\n",
    "experiment_data = np.concatenate((combined_positive_peptides, \n",
    "                                  combined_negative_peptides), axis=0)\n",
    "experiment_labels = np.concatenate((np.ones(len(combined_positive_peptides)), \n",
    "                                   np.zeros(len(combined_negative_peptides))), axis=0)\n",
    "X_train, X_test, y_train, y_test = train_test_split(experiment_data, experiment_labels, \n",
    "                                                    test_size=0.25, random_state=42)\n",
    "clf = RandomForestClassifier()\n",
    "#clf = GradientBoostingClassifier()\n",
    "#clf = LogisticRegression()\n",
    "clf.fit(X_train, y_train)\n",
    "print('Accuracy', clf.score(X_test, y_test))\n",
    "predictions = clf.predict(X_test)\n",
    "cm = confusion_matrix(y_test, predictions)\n",
    "print('Confusion matrix', cm)"
   ]
  },
  {
   "cell_type": "code",
   "execution_count": null,
   "metadata": {},
   "outputs": [],
   "source": []
  }
 ],
 "metadata": {
  "kernelspec": {
   "display_name": "Python 3",
   "language": "python",
   "name": "python3"
  },
  "language_info": {
   "codemirror_mode": {
    "name": "ipython",
    "version": 3
   },
   "file_extension": ".py",
   "mimetype": "text/x-python",
   "name": "python",
   "nbconvert_exporter": "python",
   "pygments_lexer": "ipython3",
   "version": "3.6.8"
  }
 },
 "nbformat": 4,
 "nbformat_minor": 2
}
